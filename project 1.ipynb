{
 "cells": [
  {
   "cell_type": "code",
   "execution_count": 1,
   "id": "dc168f29-c474-426c-aa9e-cb0e9e03008a",
   "metadata": {},
   "outputs": [
    {
     "name": "stdout",
     "output_type": "stream",
     "text": [
      "1\n",
      "2\n",
      "3\n",
      "4\n",
      "5\n"
     ]
    }
   ],
   "source": [
    "#Q1. Explain with an example each when to use a for loop and a while loop.\n",
    "#example of for loop:\n",
    "user_input=[1,2,3,4,5]\n",
    "\n",
    "for i in user_input:\n",
    "    print(i)"
   ]
  },
  {
   "cell_type": "code",
   "execution_count": 2,
   "id": "fab6660b-63b3-4a53-b80b-c54fec119371",
   "metadata": {},
   "outputs": [
    {
     "name": "stdin",
     "output_type": "stream",
     "text": [
      "enter something(type 'quit' or 'exit'): write\n",
      "enter something(type 'quit' or 'exit'): quit\n"
     ]
    }
   ],
   "source": [
    "#example of while loop:\n",
    "user_input= ' '\n",
    "\n",
    "while user_input!='quit':\n",
    "    user_input=input(\"enter something(type 'quit' or 'exit'):\")"
   ]
  },
  {
   "cell_type": "code",
   "execution_count": 3,
   "id": "8663a6bc-de23-411b-9397-584d29dc0e86",
   "metadata": {},
   "outputs": [
    {
     "name": "stdout",
     "output_type": "stream",
     "text": [
      "sum the first 10 natural number: 55\n",
      "product the first 10 natural number: 3628800\n"
     ]
    }
   ],
   "source": [
    "#Q2. Write a python program to print the sum and product of the first 10 natural numbers using for and while loop\n",
    "#example of for loop:\n",
    "sum_of_numbers=0\n",
    "product_of_numbers=1\n",
    "\n",
    "for i in range(1,11):\n",
    "    sum_of_numbers+=i\n",
    "    product_of_numbers*=i\n",
    "    \n",
    "print(\"sum the first 10 natural number:\",sum_of_numbers)\n",
    "print(\"product the first 10 natural number:\",product_of_numbers)"
   ]
  },
  {
   "cell_type": "code",
   "execution_count": 4,
   "id": "ad1e9705-84c3-4235-905a-07a67b36a18b",
   "metadata": {},
   "outputs": [
    {
     "name": "stdout",
     "output_type": "stream",
     "text": [
      "sum the first 10 natural number: 55\n",
      "product the first 10 natural number: 3628800\n"
     ]
    }
   ],
   "source": [
    "#using while loop:\n",
    "n=1\n",
    "sum_of_numbers=0\n",
    "product_of_numbers=1\n",
    "\n",
    "while n <=10:\n",
    "    sum_of_numbers+=n\n",
    "    product_of_numbers*=n\n",
    "    n+=1\n",
    "    \n",
    "print(\"sum the first 10 natural number:\",sum_of_numbers)\n",
    "print(\"product the first 10 natural number:\",product_of_numbers)"
   ]
  },
  {
   "cell_type": "code",
   "execution_count": 5,
   "id": "6c01c662-3bd5-4e16-8e5a-34c79d718127",
   "metadata": {},
   "outputs": [
    {
     "name": "stdin",
     "output_type": "stream",
     "text": [
      "enter the number of unit consumed 310\n"
     ]
    },
    {
     "name": "stdout",
     "output_type": "stream",
     "text": [
      "2250.0\n"
     ]
    }
   ],
   "source": [
    "#Q3. Create a python program to compute the electricity bill for a household.\n",
    "units_consumed=float(input(\"enter the number of unit consumed\"))\n",
    "\n",
    "#rate per-unit \n",
    "rate_1=4.5 #for first 100 units\n",
    "rate_2=6.0 #for second 100 units\n",
    "rate_3=10.0 #for next 100 units\n",
    "rate_4=20.0 #for next 300 or above units\n",
    "\n",
    "if units_consumed<=100:\n",
    "    print(units_consumed*rate_1)\n",
    "elif units_consumed<=200:\n",
    "    print(100*rate_1+(units_consumed-100)*rate_2)\n",
    "elif units_consumed<=300:\n",
    "    print(100*rate_1+100*rate_2+(units_consumed-200)*rate_3)\n",
    "else:\n",
    "    print(100*rate_1+100*rate_2+100*rate_3+(units_consumed-300)*rate_4)"
   ]
  },
  {
   "cell_type": "code",
   "execution_count": 6,
   "id": "9f136291-b279-4672-a86e-7cd4d84627c6",
   "metadata": {},
   "outputs": [
    {
     "name": "stdout",
     "output_type": "stream",
     "text": [
      "the cube of that number which is divisible by 4 and 5: [10, 20, 30, 40, 50, 60, 70, 80, 90, 100]\n"
     ]
    }
   ],
   "source": [
    "#Q4. Create a list of numbers from 1 to 100. Use for loop and while loop to calculate the cube of each number and if the cube of that number is divisible by 4 or 5 then append that number in a list and print that list.\n",
    "#using for loop:\n",
    "input_list=[]\n",
    "\n",
    "for i in range(1,101):\n",
    "    cube=i**3\n",
    "    if cube%4==0 and cube%5==0:\n",
    "        input_list.append(i)\n",
    "print(\"the cube of that number which is divisible by 4 and 5:\",input_list)"
   ]
  },
  {
   "cell_type": "code",
   "execution_count": 1,
   "id": "b2d371fc-b029-4ae4-9f5a-510f8dd84b6c",
   "metadata": {},
   "outputs": [
    {
     "name": "stdout",
     "output_type": "stream",
     "text": [
      "The cubes of numbers between 1 and 100 that are divisible by both 4 and 5 are: [10, 20, 30, 40, 50, 60, 70, 80, 90, 100]\n"
     ]
    }
   ],
   "source": [
    "#using whie loop:\n",
    "num = 1\n",
    "input_list = []\n",
    "\n",
    "while num <= 100:\n",
    "    cube = num ** 3\n",
    "    if cube % 4 == 0 and cube % 5 == 0:\n",
    "        input_list.append(num)\n",
    "    num += 1\n",
    "\n",
    "print(\"The cubes of numbers between 1 and 100 that are divisible by both 4 and 5 are:\", input_list)"
   ]
  },
  {
   "cell_type": "code",
   "execution_count": 2,
   "id": "e94b4ad5-0f72-4165-b3c6-79b281b74e6b",
   "metadata": {},
   "outputs": [
    {
     "name": "stdout",
     "output_type": "stream",
     "text": [
      "count of 'a': 4\n",
      "count of 'e': 3\n",
      "count of 'o': 2\n",
      "count of 'i': 3\n",
      "count of 'u': 0\n",
      "total vowel count: 12\n"
     ]
    }
   ],
   "source": [
    "#Q.Q5. Write a program to filter count vowels in the below-given string.string = \"I want to become a data scientist\"\n",
    "input_string=\"I want to become a data scientist\"\n",
    "\n",
    "#convert the string into lowercase to handle both upper and lower case.\n",
    "string=input_string.lower()\n",
    "\n",
    "#initialize counters for every vowels\n",
    "count_a=0\n",
    "count_e=0\n",
    "count_o=0\n",
    "count_i=0\n",
    "count_u=0\n",
    "\n",
    "for char in string:\n",
    "    if char =='a':\n",
    "        count_a+=1\n",
    "    elif char=='e':\n",
    "        count_e+=1\n",
    "    elif char=='o':\n",
    "        count_o+=1\n",
    "    elif char =='i':\n",
    "        count_i+=1\n",
    "    elif char =='u':\n",
    "        count_u+=1\n",
    "        \n",
    "#calculate the total count vowels\n",
    "total_vowels=count_a+count_e+count_o+count_i+count_u\n",
    "\n",
    "#display the count\n",
    "print(\"count of 'a':\",count_a)\n",
    "print(\"count of 'e':\",count_e)\n",
    "print(\"count of 'o':\",count_o)\n",
    "print(\"count of 'i':\",count_i)\n",
    "print(\"count of 'u':\",count_u)\n",
    "print(\"total vowel count:\",total_vowels)"
   ]
  },
  {
   "cell_type": "code",
   "execution_count": 1,
   "id": "dd36f23c-201c-40ae-896e-98114054e3e9",
   "metadata": {},
   "outputs": [],
   "source": [
    "#end"
   ]
  },
  {
   "cell_type": "code",
   "execution_count": null,
   "id": "b412f80e-c590-4104-8e7c-c5c112cac549",
   "metadata": {},
   "outputs": [],
   "source": []
  }
 ],
 "metadata": {
  "kernelspec": {
   "display_name": "Python 3 (ipykernel)",
   "language": "python",
   "name": "python3"
  },
  "language_info": {
   "codemirror_mode": {
    "name": "ipython",
    "version": 3
   },
   "file_extension": ".py",
   "mimetype": "text/x-python",
   "name": "python",
   "nbconvert_exporter": "python",
   "pygments_lexer": "ipython3",
   "version": "3.10.8"
  }
 },
 "nbformat": 4,
 "nbformat_minor": 5
}
